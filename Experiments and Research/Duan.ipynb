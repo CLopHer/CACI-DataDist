{
 "cells": [
  {
   "cell_type": "code",
   "execution_count": 2,
   "metadata": {},
   "outputs": [
    {
     "name": "stderr",
     "output_type": "stream",
     "text": [
      "C:\\Users\\Duan Nguyen\\AppData\\Local\\Temp\\ipykernel_10112\\2159557030.py:12: DeprecationWarning: Please use `rotate` from the `scipy.ndimage` namespace, the `scipy.ndimage.interpolation` namespace is deprecated.\n",
      "  from scipy.ndimage.interpolation import rotate as scipyrotate\n"
     ]
    }
   ],
   "source": [
    "import os\n",
    "import time\n",
    "import copy\n",
    "import argparse\n",
    "import numpy as np\n",
    "import torch\n",
    "import torch.nn as nn\n",
    "from torchvision.utils import save_image\n",
    "import torch.nn.functional as F\n",
    "from torch.utils.data import Dataset\n",
    "from torchvision import datasets, transforms\n",
    "from scipy.ndimage.interpolation import rotate as scipyrotate\n",
    "from utils import get_loops, get_dataset, get_network,evaluate_synset, get_daparam, match_loss, get_time, TensorDataset, epoch, DiffAugment, ParamDiffAug"
   ]
  },
  {
   "cell_type": "code",
   "execution_count": 2,
   "metadata": {},
   "outputs": [],
   "source": [
    "# get data\n",
    "getTestDataset = datasets.FashionMNIST(root=\"./\", train=False, transform=transforms.ToTensor())\n",
    "getTrainDataset = datasets.FashionMNIST(root=\"./\", train=True, transform=transforms.ToTensor())\n",
    "\n",
    "# load data\n",
    "loadTestDataset = DataLoader(dataset=getTestDataset, batch_size=32, shuffle=True)\n",
    "loadTrainDataset = DataLoader(dataset=getTrainDataset, batch_size=32, shuffle=True)"
   ]
  },
  {
   "cell_type": "code",
   "execution_count": 6,
   "metadata": {},
   "outputs": [],
   "source": [
    "# # define neural network\n",
    "# class NNthing(nn.Module):\n",
    "#     def __init__(self):\n",
    "#         super().__init__()\n",
    "#         # turn image into 1 dimension\n",
    "#         self.flatten = nn.Flatten()\n",
    "#         # layers\n",
    "#         self.linear_relu_stack = nn.Sequential(\n",
    "#             # connect flattened data to 512 nodes\n",
    "#             nn.Linear(28*28, 512),\n",
    "#             # activation function\n",
    "#             nn.ReLU(),\n",
    "#             # nodes to nodes\n",
    "#             nn.Linear(512, 512),\n",
    "#             nn.ReLU(),\n",
    "#             # nodes into 10 categories\n",
    "#             nn.Linear(512, 10),\n",
    "#         )\n",
    "    \n",
    "#     def forward(self, x):\n",
    "#         x = self.flatten(x)\n",
    "#         return self.linear_relu_stack(x)"
   ]
  },
  {
   "cell_type": "code",
   "execution_count": 9,
   "metadata": {},
   "outputs": [],
   "source": [
    "# # load model to cpu\n",
    "# nnthing = NNthing().to(\"cpu\")\n",
    "# # define loss\n",
    "# crossE = nn.CrossEntropyLoss()\n",
    "# # define optimizer\n",
    "# opti = torch.optim.Adam(nnthing.parameters(), lr=0.01)"
   ]
  },
  {
   "cell_type": "code",
   "execution_count": 10,
   "metadata": {},
   "outputs": [],
   "source": [
    "# # training\n",
    "# for epoch in range(3):\n",
    "#     for i, (images, labels) in enumerate(loadTrainDataset):\n",
    "#         images = images.to(\"cpu\")\n",
    "#         labels = labels.to(\"cpu\")\n",
    "#         opti.zero_grad()\n",
    "#         pred = nnthing(images)\n",
    "#         loss = crossE(pred, labels)\n",
    "#         loss.backward()\n",
    "#         opti.step()"
   ]
  },
  {
   "cell_type": "code",
   "execution_count": 11,
   "metadata": {},
   "outputs": [
    {
     "name": "stdout",
     "output_type": "stream",
     "text": [
      "Accuracy: 83.3%\n"
     ]
    }
   ],
   "source": [
    "# # test\n",
    "# count, success = 0, 0\n",
    "# with torch.no_grad():\n",
    "#     for images, labels in loadTestDataset:\n",
    "#         pred = nnthing(images)\n",
    "#         _, predicted = torch.max(pred.data, 1)\n",
    "#         count += labels.size(0)\n",
    "#         success += (predicted == labels).sum().item()\n",
    "\n",
    "# print(f\"Accuracy: {100*success/count:.1f}%\")\n"
   ]
  }
 ],
 "metadata": {
  "kernelspec": {
   "display_name": "Python 3",
   "language": "python",
   "name": "python3"
  },
  "language_info": {
   "codemirror_mode": {
    "name": "ipython",
    "version": 3
   },
   "file_extension": ".py",
   "mimetype": "text/x-python",
   "name": "python",
   "nbconvert_exporter": "python",
   "pygments_lexer": "ipython3",
   "version": "3.10.0"
  },
  "orig_nbformat": 4
 },
 "nbformat": 4,
 "nbformat_minor": 2
}

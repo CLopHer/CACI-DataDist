{
 "cells": [
  {
   "attachments": {},
   "cell_type": "markdown",
   "metadata": {},
   "source": [
    "Cesar Notebook, do test stuff here to aid in keeping main clean"
   ]
  },
  {
   "attachments": {},
   "cell_type": "markdown",
   "metadata": {},
   "source": [
    "Basic Imports/ Notebook setup"
   ]
  },
  {
   "cell_type": "code",
   "execution_count": 6,
   "metadata": {},
   "outputs": [
    {
     "name": "stdout",
     "output_type": "stream",
     "text": [
      "48000\n",
      "12000\n"
     ]
    }
   ],
   "source": [
    "import numpy as np\n",
    "import matplotlib.pyplot as plt\n",
    "import pandas as pd\n",
    "import torch\n",
    "import torchvision                                                       \n",
    "import torchvision.transforms as transforms\n",
    "valid_ratio = 0.2  # Going to use 80%/20% split for train/valid\n",
    "\n",
    "# Load the dataset for the training/validation sets\n",
    "train_valid_dataset = torchvision.datasets.FashionMNIST(root=\"C:/Users/KnubC/Documents/GitHub/CSCI370\",\n",
    "                                           train=True,\n",
    "                                           transform= None, #transforms.ToTensor(),\n",
    "                                           download=True)\n",
    "\n",
    "# Split it into training and validation sets\n",
    "nb_train = int((1.0 - valid_ratio) * len(train_valid_dataset))\n",
    "nb_valid =  int(valid_ratio * len(train_valid_dataset))\n",
    "train_dataset, valid_dataset = torch.utils.data.dataset.random_split(train_valid_dataset, [nb_train, nb_valid])\n",
    "print(nb_train)\n",
    "print(nb_valid)\n",
    "\n",
    "test_dataset = torchvision.datasets.FashionMNIST(root=\"C:/Users/KnubC/Documents/GitHub/CSCI370\",\n",
    "                                                 transform= None, #transforms.ToTensor(),\n",
    "                                                 train=False)"
   ]
  }
 ],
 "metadata": {
  "kernelspec": {
   "display_name": "Python 3",
   "language": "python",
   "name": "python3"
  },
  "language_info": {
   "codemirror_mode": {
    "name": "ipython",
    "version": 3
   },
   "file_extension": ".py",
   "mimetype": "text/x-python",
   "name": "python",
   "nbconvert_exporter": "python",
   "pygments_lexer": "ipython3",
   "version": "3.9.13"
  },
  "orig_nbformat": 4
 },
 "nbformat": 4,
 "nbformat_minor": 2
}

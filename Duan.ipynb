{
 "cells": [
  {
   "cell_type": "code",
   "execution_count": 7,
   "metadata": {},
   "outputs": [],
   "source": [
    "import os\n",
    "import torch\n",
    "import numpy as np\n",
    "import math\n",
    "from torchvision import datasets, transforms\n",
    "from torch import nn\n",
    "from torch.utils.data import DataLoader"
   ]
  },
  {
   "cell_type": "code",
   "execution_count": 9,
   "metadata": {},
   "outputs": [],
   "source": [
    "# get data\n",
    "getTestDataset = datasets.FashionMNIST(root=\"./\", train=False, transform=transforms.ToTensor())\n",
    "getTrainDataset = datasets.FashionMNIST(root=\"./\", train=True, transform=transforms.ToTensor())\n",
    "\n",
    "# load data\n",
    "loadTestDataset = DataLoader(dataset=getTestDataset, batch_size=1000, shuffle=True)\n",
    "loadTrainDataset = DataLoader(dataset=getTrainDataset, batch_size=1000, shuffle=True)"
   ]
  },
  {
   "cell_type": "code",
   "execution_count": 10,
   "metadata": {},
   "outputs": [],
   "source": [
    "# define neural network\n",
    "class NNthing(nn.Module):\n",
    "    def __init__(self):\n",
    "        super().__init__()\n",
    "        # turn image into 1 dimension\n",
    "        self.flatten = nn.Flatten()\n",
    "        # layers\n",
    "        self.linear_relu_stack = nn.Sequential(\n",
    "            # connect flattened data to 512 nodes\n",
    "            nn.Linear(28*28, 512),\n",
    "            # activation function\n",
    "            nn.ReLU(),\n",
    "            # nodes to nodes\n",
    "            nn.Linear(512, 512),\n",
    "            nn.ReLU(),\n",
    "            # nodes into 10 categories\n",
    "            nn.Linear(512, 10),\n",
    "        )\n",
    "    \n",
    "    def foward(self, x):\n",
    "        x = self.flatten(x)\n",
    "        return self.linear_relu_stack(x)"
   ]
  }
 ],
 "metadata": {
  "kernelspec": {
   "display_name": "Python 3",
   "language": "python",
   "name": "python3"
  },
  "language_info": {
   "codemirror_mode": {
    "name": "ipython",
    "version": 3
   },
   "file_extension": ".py",
   "mimetype": "text/x-python",
   "name": "python",
   "nbconvert_exporter": "python",
   "pygments_lexer": "ipython3",
   "version": "3.11.3"
  },
  "orig_nbformat": 4
 },
 "nbformat": 4,
 "nbformat_minor": 2
}
